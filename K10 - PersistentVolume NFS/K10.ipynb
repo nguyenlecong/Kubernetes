{
 "cells": [
  {
   "attachments": {},
   "cell_type": "markdown",
   "metadata": {},
   "source": [
    "## NFS làm Server chia sẻ file"
   ]
  },
  {
   "attachments": {},
   "cell_type": "markdown",
   "metadata": {},
   "source": [
    " Server chia sẻ file NFS ở địa chỉ IP 172.16.10.100, đường dẫn chia sẻ file /data/data1"
   ]
  },
  {
   "attachments": {},
   "cell_type": "markdown",
   "metadata": {},
   "source": [
    "## Tạo PersistentVolume NFS"
   ]
  },
  {
   "cell_type": "code",
   "execution_count": null,
   "metadata": {},
   "outputs": [],
   "source": [
    "#Triển khai và kiểm tra\n",
    "\n",
    "!kubectl apply -f pv_nfs.yaml\n",
    "\n",
    "!kubectl get pv -o wide\n",
    "\n",
    "!kubectl describe pv/pv1"
   ]
  },
  {
   "attachments": {},
   "cell_type": "markdown",
   "metadata": {},
   "source": [
    "## Tạo PersistentVolumeClaim NFS"
   ]
  },
  {
   "cell_type": "code",
   "execution_count": null,
   "metadata": {},
   "outputs": [],
   "source": [
    "# Triển khai và kiểm tra\n",
    "\n",
    "!kubectl apply -f pvc_nfs.yaml\n",
    "\n",
    "!kubectl get pvc,pv -o wide"
   ]
  },
  {
   "attachments": {},
   "cell_type": "markdown",
   "metadata": {},
   "source": [
    "## Mount PersistentVolumeClaim NFS vào Container\n"
   ]
  },
  {
   "cell_type": "code",
   "execution_count": null,
   "metadata": {},
   "outputs": [],
   "source": [
    "volumes:\n",
    "- name: htdocs\n",
    "    persistentVolumeClaim:\n",
    "    claimName: pvc1\n",
    "\n",
    "containers:\n",
    "  volumeMounts:\n",
    "     - mountPath: /usr/local/apache2/htdocs/\n",
    "      name: htdocs\n"
   ]
  },
  {
   "attachments": {},
   "cell_type": "markdown",
   "metadata": {},
   "source": [
    "Ổ đĩa đã hoạt động chính xác, giờ bạn có thể scale, update dù POD ở đâu thì chúng vẫn truy cập một loại ổ đĩa (đọc, ghi)"
   ]
  }
 ],
 "metadata": {
  "language_info": {
   "name": "python"
  },
  "orig_nbformat": 4
 },
 "nbformat": 4,
 "nbformat_minor": 2
}
