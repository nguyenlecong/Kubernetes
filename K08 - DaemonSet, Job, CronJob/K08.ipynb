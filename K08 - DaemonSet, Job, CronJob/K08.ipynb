{
 "cells": [
  {
   "attachments": {},
   "cell_type": "markdown",
   "metadata": {},
   "source": [
    "# DaemonSet\n",
    "\n",
    "DaemonSet (ds) đảm bảo chạy trên mỗi NODE một bản copy của POD. Triển khai DaemonSet khi cần ở mỗi máy (Node) một POD, thường dùng cho các ứng dụng như thu thập log, tạo ổ đĩa trên mỗi Node ..."
   ]
  },
  {
   "cell_type": "code",
   "execution_count": null,
   "metadata": {},
   "outputs": [],
   "source": [
    "!kubectl apply -f ds.yaml"
   ]
  },
  {
   "cell_type": "code",
   "execution_count": null,
   "metadata": {},
   "outputs": [],
   "source": [
    "# Liệt kê các DaemonSet\n",
    "!kubectl get ds -o wide\n",
    "\n",
    "# Liệt kê các POD theo nhãn\n",
    "!kubectl get pod -o wide -l \"app=ds-nginx\"\n",
    "\n",
    "# Chi tiết về ds\n",
    "!kubectl describe ds/dsapp\n",
    "\n",
    "# Xóa DaemonSet\n",
    "!kubectl delete ds/dsapp"
   ]
  },
  {
   "cell_type": "code",
   "execution_count": null,
   "metadata": {},
   "outputs": [],
   "source": [
    "# Mặc định NODE master của kubernetes không cho triển khai chạy các POD trên nó để an toàn, nếu muốn cho phép tạo Pod trên node Master thì xóa đi taint có tên node-role.kubernetes.io/master\n",
    "\n",
    "# xóa taint trên node master.xtl cho phép tạo Pod\n",
    "!kubectl taint node master.xtl node-role.kubernetes.io/master-\n",
    "\n",
    "# thêm taint trên node master.xtl ngăn tạo Pod trên nó\n",
    "!kubectl taint nodes master.xtl node-role.kubernetes.io/master=false:NoSchedule"
   ]
  },
  {
   "attachments": {},
   "cell_type": "markdown",
   "metadata": {},
   "source": [
    "# Job\n",
    "\n",
    "Job (jobs) có chức năng tạo các POD đảm bảo nó chạy và kết thúc thành công. Khi các POD do Job tạo ra chạy và kết thúc thành công thì Job đó hoàn thành. Khi bạn xóa Job thì các Pod nó tạo cũng xóa theo. Một Job có thể tạo các Pod chạy tuần tự hoặc song song. Sử dụng Job khi muốn thi hành một vài chức năng hoàn thành xong thì dừng lại (ví dụ backup, kiểm tra ...)\n",
    "\n",
    "Khi Job tạo Pod, Pod chưa hoàn thành nếu Pod bị xóa, lỗi Node ... nó sẽ thực hiện tạo Pod khác để thi hành tác vụ."
   ]
  },
  {
   "cell_type": "code",
   "execution_count": null,
   "metadata": {},
   "outputs": [],
   "source": [
    "# Triển khai 1 job\n",
    "!kubectl apply -f 2.job.yaml\n",
    "\n",
    "# Thông tin job có tên myjob\n",
    "!kubectl describe job/myjob"
   ]
  },
  {
   "attachments": {},
   "cell_type": "markdown",
   "metadata": {},
   "source": [
    "# CronJob\n",
    "\n",
    "CronJob (cj) - chạy các Job theo một lịch định sẵn. Việc lên lịch cho CronJob khai báo giống Cron của Linux"
   ]
  },
  {
   "cell_type": "code",
   "execution_count": null,
   "metadata": {},
   "outputs": [],
   "source": [
    "# Danh sách các CronJob\n",
    "!kubectl get cj -o wide\n",
    "\n",
    "# Danh sách các Job\n",
    "!kubectl get jobs -o wide"
   ]
  }
 ],
 "metadata": {
  "kernelspec": {
   "display_name": "Python 3",
   "language": "python",
   "name": "python3"
  },
  "language_info": {
   "name": "python",
   "version": "3.8.10"
  },
  "orig_nbformat": 4
 },
 "nbformat": 4,
 "nbformat_minor": 2
}
