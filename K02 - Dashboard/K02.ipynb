{
 "cells": [
  {
   "attachments": {},
   "cell_type": "markdown",
   "metadata": {},
   "source": [
    "# Công cụ quản lý Kubernetes Cluster trên giao diện Web - Kubernetes Dashboard"
   ]
  },
  {
   "cell_type": "code",
   "execution_count": 2,
   "metadata": {},
   "outputs": [
    {
     "name": "stderr",
     "output_type": "stream",
     "text": [
      "  % Total    % Received % Xferd  Average Speed   Time    Time     Time  Current\n",
      "                                 Dload  Upload   Total   Spent    Left  Speed\n",
      "\n",
      "  0     0    0     0    0     0      0      0 --:--:-- --:--:-- --:--:--     0\n",
      "  0     0    0     0    0     0      0      0 --:--:-- --:--:-- --:--:--     0\n",
      "100  7621  100  7621    0     0   8314      0 --:--:-- --:--:-- --:--:--  8328\n"
     ]
    }
   ],
   "source": [
    "!curl https://raw.githubusercontent.com/kubernetes/dashboard/v2.7.0/aio/deploy/recommended.yaml > dashboard-v2-7.yaml"
   ]
  },
  {
   "cell_type": "code",
   "execution_count": 7,
   "metadata": {},
   "outputs": [
    {
     "name": "stdout",
     "output_type": "stream",
     "text": [
      "namespace/kubernetes-dashboard unchanged\n",
      "serviceaccount/kubernetes-dashboard unchanged\n",
      "service/kubernetes-dashboard unchanged\n",
      "secret/kubernetes-dashboard-csrf unchanged\n",
      "secret/kubernetes-dashboard-key-holder unchanged\n",
      "configmap/kubernetes-dashboard-settings unchanged\n",
      "role.rbac.authorization.k8s.io/kubernetes-dashboard unchanged\n",
      "clusterrole.rbac.authorization.k8s.io/kubernetes-dashboard unchanged\n",
      "rolebinding.rbac.authorization.k8s.io/kubernetes-dashboard unchanged\n",
      "clusterrolebinding.rbac.authorization.k8s.io/kubernetes-dashboard unchanged\n",
      "deployment.apps/kubernetes-dashboard unchanged\n",
      "service/dashboard-metrics-scraper unchanged\n",
      "deployment.apps/dashboard-metrics-scraper unchanged\n"
     ]
    }
   ],
   "source": [
    "# Triển khai\n",
    "!kubectl apply -f dashboard-v2-7.yaml"
   ]
  },
  {
   "cell_type": "code",
   "execution_count": 26,
   "metadata": {},
   "outputs": [
    {
     "name": "stdout",
     "output_type": "stream",
     "text": [
      "NAME                                         READY   STATUS    RESTARTS   AGE\n",
      "dashboard-metrics-scraper-64bcc67c9c-sb7f6   1/1     Running   0          23m\n",
      "kubernetes-dashboard-5c8bd6b59-z4khp         1/1     Running   0          23m\n"
     ]
    }
   ],
   "source": [
    "!kubectl get po -n kubernetes-dashboard"
   ]
  },
  {
   "attachments": {},
   "cell_type": "markdown",
   "metadata": {},
   "source": [
    "## Tạo kubernetes-dashboard-certs, xác thực SSL"
   ]
  },
  {
   "cell_type": "code",
   "execution_count": 15,
   "metadata": {},
   "outputs": [
    {
     "name": "stderr",
     "output_type": "stream",
     "text": [
      "#1 [internal] load .dockerignore\n",
      "#1 transferring context:\n",
      "#1 transferring context: 2B 0.0s done\n",
      "#1 DONE 0.4s\n",
      "\n",
      "#2 [internal] load build definition from Dockerfile\n",
      "#2 transferring dockerfile: 174B 0.0s done\n",
      "#2 DONE 0.5s\n",
      "\n",
      "#3 [internal] load metadata for docker.io/library/alpine:latest\n",
      "#3 ...\n",
      "\n",
      "#4 [auth] library/alpine:pull token for registry-1.docker.io\n",
      "#4 DONE 0.0s\n",
      "\n",
      "#3 [internal] load metadata for docker.io/library/alpine:latest\n",
      "#3 DONE 4.4s\n",
      "\n",
      "#5 [1/3] FROM docker.io/library/alpine@sha256:124c7d2707904eea7431fffe91522a01e5a861a624ee31d03372cc1d138a3126\n",
      "#5 resolve docker.io/library/alpine@sha256:124c7d2707904eea7431fffe91522a01e5a861a624ee31d03372cc1d138a3126\n",
      "#5 resolve docker.io/library/alpine@sha256:124c7d2707904eea7431fffe91522a01e5a861a624ee31d03372cc1d138a3126 0.1s done\n",
      "#5 sha256:124c7d2707904eea7431fffe91522a01e5a861a624ee31d03372cc1d138a3126 1.64kB / 1.64kB done\n",
      "#5 sha256:b6ca290b6b4cdcca5b3db3ffa338ee0285c11744b4a6abaa9627746ee3291d8d 528B / 528B done\n",
      "#5 sha256:9ed4aefc74f6792b5a804d1d146fe4b4a2299147b0f50eaf2b08435d7b38c27e 1.47kB / 1.47kB done\n",
      "#5 sha256:f56be85fc22e46face30e2c3de3f7fe7c15f8fd7c4e5add29d7f64b87abdaa09 0B / 3.37MB 0.1s\n",
      "#5 sha256:f56be85fc22e46face30e2c3de3f7fe7c15f8fd7c4e5add29d7f64b87abdaa09 1.05MB / 3.37MB 1.0s\n",
      "#5 sha256:f56be85fc22e46face30e2c3de3f7fe7c15f8fd7c4e5add29d7f64b87abdaa09 2.10MB / 3.37MB 1.1s\n",
      "#5 sha256:f56be85fc22e46face30e2c3de3f7fe7c15f8fd7c4e5add29d7f64b87abdaa09 3.37MB / 3.37MB 1.3s\n",
      "#5 sha256:f56be85fc22e46face30e2c3de3f7fe7c15f8fd7c4e5add29d7f64b87abdaa09 3.37MB / 3.37MB 1.4s done\n",
      "#5 extracting sha256:f56be85fc22e46face30e2c3de3f7fe7c15f8fd7c4e5add29d7f64b87abdaa09\n",
      "#5 extracting sha256:f56be85fc22e46face30e2c3de3f7fe7c15f8fd7c4e5add29d7f64b87abdaa09 3.3s done\n",
      "#5 DONE 5.8s\n",
      "\n",
      "#6 [2/3] RUN apk update &&   apk add --no-cache openssl &&   rm -rf /var/cache/apk/*\n",
      "#6 6.698 fetch https://dl-cdn.alpinelinux.org/alpine/v3.17/main/x86_64/APKINDEX.tar.gz\n",
      "#6 9.577 fetch https://dl-cdn.alpinelinux.org/alpine/v3.17/community/x86_64/APKINDEX.tar.gz\n",
      "#6 15.14 v3.17.3-155-gc56ff944f7d [https://dl-cdn.alpinelinux.org/alpine/v3.17/main]\n",
      "#6 15.14 v3.17.3-156-g659aadb1f9f [https://dl-cdn.alpinelinux.org/alpine/v3.17/community]\n",
      "#6 15.14 OK: 17821 distinct packages available\n",
      "#6 15.20 fetch https://dl-cdn.alpinelinux.org/alpine/v3.17/main/x86_64/APKINDEX.tar.gz\n",
      "#6 15.92 fetch https://dl-cdn.alpinelinux.org/alpine/v3.17/community/x86_64/APKINDEX.tar.gz\n",
      "#6 16.59 (1/1) Installing openssl (3.0.8-r4)\n",
      "#6 16.86 Executing busybox-1.35.0-r29.trigger\n",
      "#6 16.94 OK: 8 MiB in 16 packages\n",
      "#6 DONE 18.0s\n",
      "\n",
      "#7 exporting to image\n",
      "#7 exporting layers\n",
      "#7 exporting layers 0.1s done\n",
      "#7 writing image sha256:078a705b4ea029a840bc6ef820c4ee1f93d416824a91680cd05e622ea091e33d done\n",
      "#7 naming to docker.io/library/myopenssl 0.0s done\n",
      "#7 DONE 0.2s\n"
     ]
    }
   ],
   "source": [
    "# Cài OpenSSL\n",
    "!docker build -t myopenssl -f Dockerfile ."
   ]
  },
  {
   "cell_type": "code",
   "execution_count": null,
   "metadata": {},
   "outputs": [],
   "source": [
    "!mkdir certs\n",
    "!docker run --rm -v ${PWD}/certs:/certs/ myopenssl req -nodes -newkey rsa:2048 -keyout /certs/dashboard.key -out /certs/dashboard.csr -subj \"/C=/ST=/L=/O=/OU=/CN=kubernetes-dashboard\"\n",
    "!docker run --rm -v ${PWD}/certs:/certs/ myopenssl x509 -req -sha256 -days 365 -in /certs/dashboard.csr -signkey /certs/dashboard.key -out /certs/dashboard.crt"
   ]
  },
  {
   "cell_type": "code",
   "execution_count": 13,
   "metadata": {},
   "outputs": [],
   "source": [
    "!mkdir certs\n",
    "!chmod 777 -R certs\n",
    "!openssl req -nodes -newkey rsa:2048 -keyout certs/dashboard.key -out certs/dashboard.csr -subj \"/C=/ST=/L=/O=/OU=/CN=kubernetes-dashboard\"\n",
    "!openssl x509 -req -sha256 -days 365 -in certs/dashboard.csr -signkey certs/dashboard.key -out certs/dashboard.crt\n",
    "!sudo chmod -R 777 certs"
   ]
  },
  {
   "cell_type": "code",
   "execution_count": 22,
   "metadata": {},
   "outputs": [
    {
     "name": "stdout",
     "output_type": "stream",
     "text": [
      "secret/kubernetes-dashboard-certs created\n"
     ]
    }
   ],
   "source": [
    "# tạo Secret\n",
    "!kubectl create secret generic kubernetes-dashboard-certs --from-file=certs -n kubernetes-dashboard"
   ]
  },
  {
   "cell_type": "code",
   "execution_count": 42,
   "metadata": {},
   "outputs": [
    {
     "name": "stdout",
     "output_type": "stream",
     "text": [
      "NAME                              TYPE     DATA   AGE\n",
      "kubernetes-dashboard-certs        Opaque   3      14m\n",
      "kubernetes-dashboard-csrf         Opaque   1      34m\n",
      "kubernetes-dashboard-key-holder   Opaque   2      34m\n"
     ]
    }
   ],
   "source": [
    "!kubectl get secret -n kubernetes-dashboard"
   ]
  },
  {
   "cell_type": "code",
   "execution_count": 27,
   "metadata": {},
   "outputs": [
    {
     "name": "stdout",
     "output_type": "stream",
     "text": [
      "NAME             STATUS   ROLES           AGE   VERSION\n",
      "docker-desktop   Ready    control-plane   37h   v1.25.9\n"
     ]
    }
   ],
   "source": [
    "!kubectl get node"
   ]
  },
  {
   "cell_type": "code",
   "execution_count": 28,
   "metadata": {},
   "outputs": [
    {
     "data": {
      "text/plain": [
       "['NAME             STATUS   ROLES           AGE   VERSION   INTERNAL-IP    EXTERNAL-IP   OS-IMAGE         KERNEL-VERSION                      CONTAINER-RUNTIME',\n",
       " 'docker-desktop   Ready    control-plane   37h   v1.25.9   192.168.65.4   <none>        Docker Desktop   5.15.90.1-microsoft-standard-WSL2   docker://23.0.5']"
      ]
     },
     "execution_count": 28,
     "metadata": {},
     "output_type": "execute_result"
    }
   ],
   "source": [
    "!!kubectl get node -o wide"
   ]
  },
  {
   "cell_type": "code",
   "execution_count": 30,
   "metadata": {},
   "outputs": [],
   "source": [
    "# truy cập địa chỉ https://172.16.10.100:31000 sẽ vào màn hình đăng nhập"
   ]
  },
  {
   "cell_type": "code",
   "execution_count": 38,
   "metadata": {},
   "outputs": [
    {
     "name": "stdout",
     "output_type": "stream",
     "text": [
      "serviceaccount/admin-user unchanged\n",
      "clusterrolebinding.rbac.authorization.k8s.io/admin-user unchanged\n"
     ]
    }
   ],
   "source": [
    "# Lấy Token đăng nhập Dashboard: admin-user.yaml\n",
    "!kubectl apply -f admin-user.yaml"
   ]
  },
  {
   "cell_type": "code",
   "execution_count": null,
   "metadata": {},
   "outputs": [],
   "source": [
    "!kubectl -n kubernetes-dashboard describe secret $(kubectl -n kubernetes-dashboard get secret | grep admin-user | awk '{print $1}')"
   ]
  },
  {
   "cell_type": "code",
   "execution_count": 46,
   "metadata": {},
   "outputs": [
    {
     "name": "stdout",
     "output_type": "stream",
     "text": [
      "NAME                              TYPE     DATA   AGE\n",
      "kubernetes-dashboard-certs        Opaque   3      18m\n",
      "kubernetes-dashboard-csrf         Opaque   1      37m\n",
      "kubernetes-dashboard-key-holder   Opaque   2      37m\n"
     ]
    }
   ],
   "source": [
    "!kubectl get secret -n kubernetes-dashboard"
   ]
  },
  {
   "cell_type": "code",
   "execution_count": null,
   "metadata": {},
   "outputs": [],
   "source": [
    "!kubectl describe secret/admin-user-token -n kubernetes-dashboard"
   ]
  },
  {
   "attachments": {},
   "cell_type": "markdown",
   "metadata": {},
   "source": [
    "## Dashboard với Kubernetes trong Docker Desktop"
   ]
  },
  {
   "cell_type": "code",
   "execution_count": null,
   "metadata": {},
   "outputs": [],
   "source": [
    "!kubectl apply -f https://raw.githubusercontent.com/kubernetes/dashboard/v2.7.0/aio/deploy/recommended.yaml"
   ]
  },
  {
   "cell_type": "code",
   "execution_count": null,
   "metadata": {},
   "outputs": [],
   "source": [
    "!kubectl proxy"
   ]
  },
  {
   "cell_type": "code",
   "execution_count": null,
   "metadata": {},
   "outputs": [],
   "source": [
    "#Truy cập địa chỉ sau để đăng nhập: http://localhost:8001/api/v1/namespaces/kubernetes-dashboard/services/https:kubernetes-dashboard:/proxy/"
   ]
  },
  {
   "attachments": {},
   "cell_type": "markdown",
   "metadata": {},
   "source": [
    "## Triển khai metrics server\n",
    " - metrics server trong kubernetes (metrics server) giám sát về tài nguyên sử dụng trên cluster, cung cấp các API để các thành phần khác truy vấn đến biết được và mức độ sử dụng tài nguyên (CPU, Memory) của Pod, Node ... Cần có Metric Server để HPA hoạt động chính xác"
   ]
  },
  {
   "cell_type": "code",
   "execution_count": 47,
   "metadata": {},
   "outputs": [
    {
     "name": "stdout",
     "output_type": "stream",
     "text": [
      "serviceaccount/metrics-server created\n",
      "clusterrole.rbac.authorization.k8s.io/system:aggregated-metrics-reader created\n",
      "clusterrole.rbac.authorization.k8s.io/system:metrics-server created\n",
      "rolebinding.rbac.authorization.k8s.io/metrics-server-auth-reader created\n",
      "clusterrolebinding.rbac.authorization.k8s.io/metrics-server:system:auth-delegator created\n",
      "clusterrolebinding.rbac.authorization.k8s.io/system:metrics-server created\n",
      "service/metrics-server created\n",
      "deployment.apps/metrics-server created\n",
      "apiservice.apiregistration.k8s.io/v1beta1.metrics.k8s.io created\n"
     ]
    }
   ],
   "source": [
    "!kubectl apply -f https://github.com/kubernetes-sigs/metrics-server/releases/download/v0.6.3/components.yaml"
   ]
  },
  {
   "cell_type": "code",
   "execution_count": null,
   "metadata": {},
   "outputs": [],
   "source": [
    "!kubectl top no\n",
    "!kubectl top pod"
   ]
  }
 ],
 "metadata": {
  "kernelspec": {
   "display_name": "Python 3",
   "language": "python",
   "name": "python3"
  },
  "language_info": {
   "codemirror_mode": {
    "name": "ipython",
    "version": 3
   },
   "file_extension": ".py",
   "mimetype": "text/x-python",
   "name": "python",
   "nbconvert_exporter": "python",
   "pygments_lexer": "ipython3",
   "version": "3.7.6"
  },
  "orig_nbformat": 4
 },
 "nbformat": 4,
 "nbformat_minor": 2
}
